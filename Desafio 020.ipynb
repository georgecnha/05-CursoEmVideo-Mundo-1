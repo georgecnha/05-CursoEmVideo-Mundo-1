{
 "cells": [
  {
   "cell_type": "code",
   "execution_count": 1,
   "metadata": {},
   "outputs": [
    {
     "name": "stdout",
     "output_type": "stream",
     "text": [
      "Primeiro aluno: Ana\n",
      "Segundo aluno: Anne\n",
      "Terceiro aluno: Isa\n",
      "Quarto aluno: Vivi\n",
      "A ordem de apresentação será: ['Anne', 'Vivi', 'Isa', 'Ana'].\n"
     ]
    }
   ],
   "source": [
    "from random import shuffle\n",
    "\n",
    "a1=(input('Primeiro aluno: '))\n",
    "a2=(input('Segundo aluno: '))\n",
    "a3=(input('Terceiro aluno: '))\n",
    "a4=(input('Quarto aluno: '))\n",
    "\n",
    "lista = [a1, a2, a3, a4]\n",
    "\n",
    "shuffle(lista)\n",
    "\n",
    "print('A ordem de apresentação será: {}.'.format(lista))"
   ]
  },
  {
   "cell_type": "code",
   "execution_count": null,
   "metadata": {},
   "outputs": [],
   "source": []
  }
 ],
 "metadata": {
  "kernelspec": {
   "display_name": "Python 3.6",
   "language": "python",
   "name": "python36"
  },
  "language_info": {
   "codemirror_mode": {
    "name": "ipython",
    "version": 3
   },
   "file_extension": ".py",
   "mimetype": "text/x-python",
   "name": "python",
   "nbconvert_exporter": "python",
   "pygments_lexer": "ipython3",
   "version": "3.6.3"
  }
 },
 "nbformat": 4,
 "nbformat_minor": 2
}
