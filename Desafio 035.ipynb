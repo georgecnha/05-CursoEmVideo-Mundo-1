{
 "cells": [
  {
   "cell_type": "code",
   "execution_count": 3,
   "metadata": {},
   "outputs": [
    {
     "name": "stdout",
     "output_type": "stream",
     "text": [
      "Primeiro segmento: 3\n",
      "Segundo segmento: 4\n",
      "Terceiro segmento: 5\n",
      "Podem formar um triângulo!\n"
     ]
    }
   ],
   "source": [
    "\"\"\"Exercício Python 035: Desenvolva um programa que leia o comprimento de três retas \n",
    "e diga ao usuário se elas podem ou não formar um triângulo.\"\"\"\n",
    "\n",
    "a=float(input('Primeiro segmento: '))\n",
    "b=float(input('Segundo segmento: '))\n",
    "c=float(input('Terceiro segmento: '))\n",
    "\n",
    "if a<b+c and b<a+b and c<b+a:\n",
    "    print('Podem formar um triângulo!')\n",
    "else:\n",
    "    print('Não podem formar um triângulo!')\n",
    "\n"
   ]
  },
  {
   "cell_type": "markdown",
   "metadata": {},
   "source": []
  },
  {
   "cell_type": "code",
   "execution_count": null,
   "metadata": {},
   "outputs": [],
   "source": []
  }
 ],
 "metadata": {
  "kernelspec": {
   "display_name": "Python 3.6",
   "language": "python",
   "name": "python36"
  },
  "language_info": {
   "codemirror_mode": {
    "name": "ipython",
    "version": 3
   },
   "file_extension": ".py",
   "mimetype": "text/x-python",
   "name": "python",
   "nbconvert_exporter": "python",
   "pygments_lexer": "ipython3",
   "version": "3.6.3"
  }
 },
 "nbformat": 4,
 "nbformat_minor": 2
}
