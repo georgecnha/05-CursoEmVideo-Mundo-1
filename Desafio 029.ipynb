{
 "cells": [
  {
   "cell_type": "code",
   "execution_count": null,
   "metadata": {},
   "outputs": [],
   "source": [
    "\"\"\"Exercício Python 029: Escreva um programa que leia a velocidade de um carro. \n",
    "Se ele ultrapassar 80Km/h, mostre uma mensagem dizendo que ele foi multado. \n",
    "A multa vai custar R$7,00 por cada Km acima do limite.\"\"\"\n",
    "\n",
    "velocidade=float(input('Digite a velocidade alcançada em quilômetros: '))\n",
    "\n",
    "if velocidade<=80:\n",
    "    print('Boa viagem!')\n",
    "else: \n",
    "    multa=(velocidade-80)*7\n",
    "    \n",
    "    print(\"\"\"Multado! Você ultrapassou o limite de 80 km/h!\n",
    "    Sua multa é de {:.2f} reais!  \n",
    "    Dirija com segurança!\"\"\".format(multa))"
   ]
  },
  {
   "cell_type": "code",
   "execution_count": null,
   "metadata": {},
   "outputs": [],
   "source": []
  }
 ],
 "metadata": {
  "kernelspec": {
   "display_name": "Python 3.6",
   "language": "python",
   "name": "python36"
  },
  "language_info": {
   "codemirror_mode": {
    "name": "ipython",
    "version": 3
   },
   "file_extension": ".py",
   "mimetype": "text/x-python",
   "name": "python",
   "nbconvert_exporter": "python",
   "pygments_lexer": "ipython3",
   "version": "3.6.3"
  }
 },
 "nbformat": 4,
 "nbformat_minor": 2
}
