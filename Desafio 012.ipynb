{
 "cells": [
  {
   "cell_type": "code",
   "execution_count": 8,
   "metadata": {},
   "outputs": [
    {
     "name": "stdout",
     "output_type": "stream",
     "text": [
      "Digite o preço: 128\n",
      "O preço sem desconto é 128.0 reais, já com o desconto de 5% é 121.6 reais\n"
     ]
    }
   ],
   "source": [
    "#print('Cálculo de desconto')\n",
    "\n",
    "pn= float(input('Digite o preço: '))\n",
    "pd=pn*(95/100)\n",
    "\n",
    "print('O preço sem desconto é {:.7} reais, já com o desconto de 5% é {:.7} reais'.format(pn, pd))"
   ]
  },
  {
   "cell_type": "code",
   "execution_count": null,
   "metadata": {},
   "outputs": [],
   "source": []
  },
  {
   "cell_type": "code",
   "execution_count": null,
   "metadata": {},
   "outputs": [],
   "source": []
  }
 ],
 "metadata": {
  "kernelspec": {
   "display_name": "Python 3",
   "language": "python",
   "name": "python3"
  },
  "language_info": {
   "codemirror_mode": {
    "name": "ipython",
    "version": 3
   },
   "file_extension": ".py",
   "mimetype": "text/x-python",
   "name": "python",
   "nbconvert_exporter": "python",
   "pygments_lexer": "ipython3",
   "version": "3.5.4"
  }
 },
 "nbformat": 4,
 "nbformat_minor": 2
}
