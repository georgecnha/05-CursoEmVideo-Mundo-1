{
 "cells": [
  {
   "cell_type": "code",
   "execution_count": null,
   "metadata": {},
   "outputs": [],
   "source": [
    "#Hipotenusa\n",
    "\n",
    "co=float(input('Digite o tamanho do cateto oposto: '))\n",
    "ca= float(input('Digite o tamanho do cateto adjacente: '))\n",
    "h=((ca)**2 + (co)**2)**(1/2)\n",
    "\n",
    "print ('A hipotenusa vale {:.6f}.'.format(h))"
   ]
  },
  {
   "cell_type": "markdown",
   "metadata": {},
   "source": []
  }
 ],
 "metadata": {
  "kernelspec": {
   "display_name": "Python 3.6",
   "language": "python",
   "name": "python36"
  },
  "language_info": {
   "codemirror_mode": {
    "name": "ipython",
    "version": 3
   },
   "file_extension": ".py",
   "mimetype": "text/x-python",
   "name": "python",
   "nbconvert_exporter": "python",
   "pygments_lexer": "ipython3",
   "version": "3.6.3"
  }
 },
 "nbformat": 4,
 "nbformat_minor": 2
}
