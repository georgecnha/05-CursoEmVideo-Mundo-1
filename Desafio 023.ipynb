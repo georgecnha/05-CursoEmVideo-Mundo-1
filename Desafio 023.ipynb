{
 "cells": [
  {
   "cell_type": "code",
   "execution_count": 5,
   "metadata": {},
   "outputs": [
    {
     "name": "stdout",
     "output_type": "stream",
     "text": [
      "Digite um número: 1234\n",
      "Analisando o número 1234...\n",
      "Unidade: 4\n",
      "Dezena: 3\n",
      "Centena: 2\n",
      "Milhar: 1\n"
     ]
    }
   ],
   "source": [
    "\"\"\"Exercício Python 023: Faça um programa que leia um número de 0 a 9999 e mostre na tela \n",
    "cada um dos dígitos separados.\"\"\"\n",
    "\n",
    "num=int(input('Digite um número: '))\n",
    "u=num%10\n",
    "d=num//10%10\n",
    "c=num//100%10\n",
    "m=num//1000%10\n",
    "\n",
    "print('Analisando o número {}...'.format(num))\n",
    "print('Unidade: {}'.format(u))\n",
    "print('Dezena: {}'.format(d))\n",
    "print('Centena: {}'.format(c))\n",
    "print('Milhar: {}'.format(m))"
   ]
  },
  {
   "cell_type": "code",
   "execution_count": null,
   "metadata": {},
   "outputs": [],
   "source": []
  }
 ],
 "metadata": {
  "kernelspec": {
   "display_name": "Python 3.6",
   "language": "python",
   "name": "python36"
  },
  "language_info": {
   "codemirror_mode": {
    "name": "ipython",
    "version": 3
   },
   "file_extension": ".py",
   "mimetype": "text/x-python",
   "name": "python",
   "nbconvert_exporter": "python",
   "pygments_lexer": "ipython3",
   "version": "3.6.3"
  }
 },
 "nbformat": 4,
 "nbformat_minor": 2
}
