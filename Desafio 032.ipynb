{
 "cells": [
  {
   "cell_type": "code",
   "execution_count": 20,
   "metadata": {},
   "outputs": [
    {
     "name": "stdout",
     "output_type": "stream",
     "text": [
      "TESTE DO ANO BISSEXTO\n",
      "Digite 0 para o ano atual\n",
      "Digite o ano: 0\n",
      "O ano 2018 não é bissexto.\n"
     ]
    }
   ],
   "source": [
    "#Exercício Python 032: Faça um programa que leia um ano qualquer e mostre se ele é bissexto.\n",
    "\n",
    "#Para ser bissexto, o ano deve ser:\n",
    "\"\"\"Divisível por 4. Sendo assim, a divisão é exata com o resto igual a zero;\n",
    "\n",
    "e\n",
    "\n",
    "Não pode ser divisível por 100. Com isso, a divisão não é exata, ou seja, \n",
    "deixa resto diferente de zero;\n",
    "\n",
    "ou\n",
    " \n",
    "Pode ser que seja divisível por 400. Caso seja divisível por 400, a divisão deve ser exata,\n",
    "deixando o resto igual a zero.\"\"\"\n",
    "\n",
    "\n",
    "from datetime import date\n",
    "\n",
    "print('TESTE DO ANO BISSEXTO')\n",
    "print('Digite 0 para o ano atual')\n",
    "ano=int(input('Digite o ano: '))\n",
    "\n",
    "if ano==0:\n",
    "    ano=date.today().year\n",
    "\n",
    "\n",
    "div4=ano%4\n",
    "div100=ano%100\n",
    "div400=ano%400    \n",
    "    \n",
    "if div4==0 and div100!=0 or div400==0:\n",
    "    print('O ano {} é bissexto!'.format(ano))\n",
    "else:\n",
    "    print('O ano {} não é bissexto.'.format(ano))\n"
   ]
  },
  {
   "cell_type": "code",
   "execution_count": null,
   "metadata": {},
   "outputs": [],
   "source": []
  },
  {
   "cell_type": "code",
   "execution_count": null,
   "metadata": {},
   "outputs": [],
   "source": []
  }
 ],
 "metadata": {
  "kernelspec": {
   "display_name": "Python 3.6",
   "language": "python",
   "name": "python36"
  }
 },
 "nbformat": 4,
 "nbformat_minor": 2
}
