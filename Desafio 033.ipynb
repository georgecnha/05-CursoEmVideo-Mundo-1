{
 "cells": [
  {
   "cell_type": "code",
   "execution_count": 2,
   "metadata": {},
   "outputs": [
    {
     "name": "stdout",
     "output_type": "stream",
     "text": [
      "TESTE DE VALORES\n",
      "Digite três números e te direi qual o maior e qual o menor\n",
      "Digite o primeiro número:  2\n",
      "Digite o segundo número:  4\n",
      "Digite o terceiro número:  6\n",
      "2 é menor e 6 é o maior\n"
     ]
    }
   ],
   "source": [
    "\"\"\"Exercício Python 033: Faça um programa que leia três números e mostre qual é o maior \n",
    "e qual é o menor.\"\"\"\n",
    "\n",
    "print(\"\"\"TESTE DE VALORES\n",
    "Digite três números e te direi qual o maior e qual o menor\"\"\")\n",
    "a=int(input('Digite o primeiro número:  '))\n",
    "b=int(input('Digite o segundo número:  '))\n",
    "c=int(input('Digite o terceiro número:  '))\n",
    "\n",
    "menor=a\n",
    "if b<a and b<c:\n",
    "    menor=b\n",
    "if c<a and c<b:\n",
    "    menor=c\n",
    "    \n",
    "maior=a\n",
    "if b>a and b>c:\n",
    "    maior=b\n",
    "if c>a and c>b:\n",
    "    maior=c\n",
    "    \n",
    "print('{} é menor e {} é o maior'.format(menor, maior))\n",
    "\n"
   ]
  },
  {
   "cell_type": "code",
   "execution_count": null,
   "metadata": {},
   "outputs": [],
   "source": []
  }
 ],
 "metadata": {
  "kernelspec": {
   "display_name": "Python 3.6",
   "language": "python",
   "name": "python36"
  },
  "language_info": {
   "codemirror_mode": {
    "name": "ipython",
    "version": 3
   },
   "file_extension": ".py",
   "mimetype": "text/x-python",
   "name": "python",
   "nbconvert_exporter": "python",
   "pygments_lexer": "ipython3",
   "version": "3.6.3"
  }
 },
 "nbformat": 4,
 "nbformat_minor": 2
}
