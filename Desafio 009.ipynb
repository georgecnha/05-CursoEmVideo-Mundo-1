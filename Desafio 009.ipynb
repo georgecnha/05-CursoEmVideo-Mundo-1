{
 "cells": [
  {
   "cell_type": "code",
   "execution_count": null,
   "metadata": {},
   "outputs": [],
   "source": [
    "#Tabuada de um inteiro\n",
    "n=int(input('Digite um número para saber sua tabuada: '))\n",
    "\n",
    "print(20*'-')\n",
    "\n",
    "c=1\n",
    "\n",
    "while c<=10:\n",
    "    print ('{:3} x{:3} = {:^3}'.format(n, c, n*c))\n",
    "    c+=1\n",
    "print (20*'-')"
   ]
  },
  {
   "cell_type": "code",
   "execution_count": null,
   "metadata": {},
   "outputs": [],
   "source": []
  }
 ],
 "metadata": {
  "kernelspec": {
   "display_name": "Python 3",
   "language": "python",
   "name": "python3"
  },
  "language_info": {
   "codemirror_mode": {
    "name": "ipython",
    "version": 3
   },
   "file_extension": ".py",
   "mimetype": "text/x-python",
   "name": "python",
   "nbconvert_exporter": "python",
   "pygments_lexer": "ipython3",
   "version": "3.5.4"
  }
 },
 "nbformat": 4,
 "nbformat_minor": 2
}
