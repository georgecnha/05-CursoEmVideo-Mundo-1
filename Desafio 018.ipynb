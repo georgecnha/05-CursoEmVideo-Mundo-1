{
 "cells": [
  {
   "cell_type": "code",
   "execution_count": 4,
   "metadata": {},
   "outputs": [
    {
     "name": "stdout",
     "output_type": "stream",
     "text": [
      "Digite o ângulo em graus: 45\n",
      "O seno de 45.0° é 0.7071, o cosseno é 0.7071 e a tangente é 1.0000\n"
     ]
    }
   ],
   "source": [
    "#Seno cosseno e tangente\n",
    "\n",
    "import math\n",
    "\n",
    "a=float(input('Digite o ângulo em graus: '))\n",
    "b=math.radians(a)\n",
    "\n",
    "print('O seno de {}° é {:.4f}, o cosseno é {:.4f} e a tangente é {:.4f}.'.format(a, math.sin(b), math.cos(b), math.tan(b)))"
   ]
  },
  {
   "cell_type": "code",
   "execution_count": null,
   "metadata": {},
   "outputs": [],
   "source": []
  },
  {
   "cell_type": "code",
   "execution_count": null,
   "metadata": {},
   "outputs": [],
   "source": []
  }
 ],
 "metadata": {
  "kernelspec": {
   "display_name": "Python 3.6",
   "language": "python",
   "name": "python36"
  },
  "language_info": {
   "codemirror_mode": {
    "name": "ipython",
    "version": 3
   },
   "file_extension": ".py",
   "mimetype": "text/x-python",
   "name": "python",
   "nbconvert_exporter": "python",
   "pygments_lexer": "ipython3",
   "version": "3.6.3"
  }
 },
 "nbformat": 4,
 "nbformat_minor": 2
}
