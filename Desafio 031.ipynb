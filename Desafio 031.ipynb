{
 "cells": [
  {
   "cell_type": "code",
   "execution_count": 2,
   "metadata": {},
   "outputs": [
    {
     "name": "stdout",
     "output_type": "stream",
     "text": [
      "CÁLCULO DE PREÇO DA GASOLINA\n",
      "Digite adistância em quilômetros: 201\n",
      "Seu gasto será de R$90.45.\n"
     ]
    }
   ],
   "source": [
    "\"\"\"Exercício Python 031: Desenvolva um programa que pergunte a distância de uma viagem em Km.\n",
    "Calcule o preço da passagem, cobrando R$0,50 por Km para viagens de até 200Km \n",
    "e R$0,45 para viagens mais longas.\"\"\"\n",
    "\n",
    "print(\"\"\"CÁLCULO DE PREÇO DA GASOLINA\"\"\")\n",
    "d=float(input('Digite adistância em quilômetros: '))\n",
    "        \n",
    "if d<=200:\n",
    "        p=d*0.50\n",
    "        print('Seu gasto será de R${:.2f}'.format(p))\n",
    "else:\n",
    "    p=d*0.45\n",
    "    print('Seu gasto será de R${:.2f}'.format(p))\n",
    "    "
   ]
  },
  {
   "cell_type": "code",
   "execution_count": null,
   "metadata": {},
   "outputs": [],
   "source": []
  }
 ],
 "metadata": {
  "kernelspec": {
   "display_name": "Python 3.6",
   "language": "python",
   "name": "python36"
  },
  "language_info": {
   "codemirror_mode": {
    "name": "ipython",
    "version": 3
   },
   "file_extension": ".py",
   "mimetype": "text/x-python",
   "name": "python",
   "nbconvert_exporter": "python",
   "pygments_lexer": "ipython3",
   "version": "3.6.3"
  }
 },
 "nbformat": 4,
 "nbformat_minor": 2
}
