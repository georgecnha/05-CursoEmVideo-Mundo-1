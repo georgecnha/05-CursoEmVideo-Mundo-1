{
 "cells": [
  {
   "cell_type": "code",
   "execution_count": 1,
   "metadata": {},
   "outputs": [
    {
     "name": "stdout",
     "output_type": "stream",
     "text": [
      "Digite seu salário: 12\n",
      "Seu aumento foi R$ 1.80, seu novo salário é R$ 13.80\n"
     ]
    }
   ],
   "source": [
    "\"\"\"Exercício Python 034: Escreva um programa que pergunte o salário de \n",
    "    um funcionário e calcule o valor do seu aumento. \n",
    "    Para salários superiores a R$1250,00, calcule um aumento de 10%. \n",
    "    Para os inferiores ou iguais, o aumento é de 15%.\"\"\"\n",
    "\n",
    "sal=float(input('Digite seu salário: '))\n",
    "\n",
    "if sal <= 1250:\n",
    "    aumento=sal*(15/100)\n",
    "else:     aumento=sal*(10/100)\n",
    "\n",
    "sal2=sal+aumento\n",
    "print('Seu aumento foi R$ {:.2f}, seu novo salário é R$ {:.2f}'.format(aumento,sal2))"
   ]
  },
  {
   "cell_type": "code",
   "execution_count": null,
   "metadata": {},
   "outputs": [],
   "source": []
  },
  {
   "cell_type": "code",
   "execution_count": null,
   "metadata": {},
   "outputs": [],
   "source": []
  }
 ],
 "metadata": {
  "kernelspec": {
   "display_name": "Python 3.6",
   "language": "python",
   "name": "python36"
  },
  "language_info": {
   "codemirror_mode": {
    "name": "ipython",
    "version": 3
   },
   "file_extension": ".py",
   "mimetype": "text/x-python",
   "name": "python",
   "nbconvert_exporter": "python",
   "pygments_lexer": "ipython3",
   "version": "3.6.3"
  }
 },
 "nbformat": 4,
 "nbformat_minor": 2
}
