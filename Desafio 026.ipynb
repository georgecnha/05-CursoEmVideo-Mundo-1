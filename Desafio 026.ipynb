{
 "cells": [
  {
   "cell_type": "code",
   "execution_count": null,
   "metadata": {
    "collapsed": true
   },
   "outputs": [],
   "source": [
    "# -*- coding: utf-8 -*-\n",
    "\"\"\"\n",
    "Created on Sat Apr 21 12:35:01 2018\n",
    "\n",
    "@author: george\n",
    "\"\"\"\n",
    "\"\"\"Exercício Python 026: Faça um programa que leia uma frase pelo teclado e \n",
    "mostre quantas vezes aparece a letra \"A\", em que posição ela aparece \n",
    "a primeira vez e em que posição ela aparece a última vez.\"\"\"\n",
    "\n",
    "frase=str(input('Digite uma frase: ')).strip().upper()\n",
    "print('A letra A aparece {} vezes na frase'.format(frase.count('A')))\n",
    "print('')\n",
    "print('A Primeira posição foi: {}'.format(frase.find('A')+1))\n",
    "print('A Segunda posição da letra A foi: {}. '.format(frase.rfind('A')+1))\n",
    "\n",
    "\n",
    "# rfind.() é um método que procura da direita pra esquerda."
   ]
  }
 ],
 "metadata": {
  "kernelspec": {
   "display_name": "Python 3.6",
   "language": "python",
   "name": "python36"
  },
  "language_info": {
   "codemirror_mode": {
    "name": "ipython",
    "version": 3
   },
   "file_extension": ".py",
   "mimetype": "text/x-python",
   "name": "python",
   "nbconvert_exporter": "python",
   "pygments_lexer": "ipython3",
   "version": "3.6.3"
  }
 },
 "nbformat": 4,
 "nbformat_minor": 2
}
