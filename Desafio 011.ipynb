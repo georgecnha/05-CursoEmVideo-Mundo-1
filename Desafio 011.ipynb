{
 "cells": [
  {
   "cell_type": "code",
   "execution_count": 1,
   "metadata": {},
   "outputs": [
    {
     "name": "stdout",
     "output_type": "stream",
     "text": [
      "Vamos calcular a sua área e a quantidade de latas de tinta necessária para sua pintura.\n",
      "=--==--==--==--==--==--==--==--==--==--==--==--==--==--==--==--==--==--==--==--==--==--=\n",
      "Digite a largura (em metros): 22\n",
      "Digite a altura (em metros):3\n",
      "Para pintar sua área de 66.0 metros, é necessário 33.0 latas de tinta.\n"
     ]
    }
   ],
   "source": [
    "#Calcula a quantidade de latas de tinta, sendo uma para cada 2m²\n",
    "s=(22*'=--=')\n",
    "l=float(input('Vamos calcular a sua área e a quantidade de latas de tinta necessária para sua pintura.\\n{}\\nDigite a largura (em metros): '.format(s)))\n",
    "h=float(input('Digite a altura (em metros):'))\n",
    "\n",
    "area=l*h\n",
    "n1=area/2\n",
    "n2=area%2\n",
    "\n",
    "print('Para pintar sua área de {:.6} metros, é necessário {:.6} latas de tinta.'.format(area, n1))"
   ]
  },
  {
   "cell_type": "code",
   "execution_count": null,
   "metadata": {},
   "outputs": [],
   "source": []
  },
  {
   "cell_type": "markdown",
   "metadata": {},
   "source": []
  }
 ],
 "metadata": {
  "kernelspec": {
   "display_name": "Python 3",
   "language": "python",
   "name": "python3"
  },
  "language_info": {
   "codemirror_mode": {
    "name": "ipython",
    "version": 3
   },
   "file_extension": ".py",
   "mimetype": "text/x-python",
   "name": "python",
   "nbconvert_exporter": "python",
   "pygments_lexer": "ipython3",
   "version": "3.5.4"
  }
 },
 "nbformat": 4,
 "nbformat_minor": 2
}
