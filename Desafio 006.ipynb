{
 "cells": [
  {
   "cell_type": "code",
   "execution_count": 4,
   "metadata": {},
   "outputs": [
    {
     "name": "stdout",
     "output_type": "stream",
     "text": [
      "Digite um número: 3\n",
      "Para o número 3: o dobro é 6, o triplo 9 e a raiz quadrada 1.5\n"
     ]
    }
   ],
   "source": [
    "#dobro, triplo e raiz quadrada\n",
    "n=int(input('Digite um número: '))\n",
    "d=2*n\n",
    "t=3*n\n",
    "rq=n**1/2\n",
    "\n",
    "print('Para o número {}: o dobro é {}, o triplo {} e a raiz quadrada {}'.format(n,d,t,rq))"
   ]
  },
  {
   "cell_type": "code",
   "execution_count": null,
   "metadata": {},
   "outputs": [],
   "source": []
  },
  {
   "cell_type": "code",
   "execution_count": null,
   "metadata": {},
   "outputs": [],
   "source": []
  }
 ],
 "metadata": {
  "kernelspec": {
   "display_name": "Python 3",
   "language": "python",
   "name": "python3"
  },
  "language_info": {
   "codemirror_mode": {
    "name": "ipython",
    "version": 3
   },
   "file_extension": ".py",
   "mimetype": "text/x-python",
   "name": "python",
   "nbconvert_exporter": "python",
   "pygments_lexer": "ipython3",
   "version": "3.5.4"
  }
 },
 "nbformat": 4,
 "nbformat_minor": 2
}
