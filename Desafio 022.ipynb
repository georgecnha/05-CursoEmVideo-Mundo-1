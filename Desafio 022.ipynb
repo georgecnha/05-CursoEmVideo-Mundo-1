{
 "cells": [
  {
   "cell_type": "code",
   "execution_count": 5,
   "metadata": {},
   "outputs": [
    {
     "name": "stdout",
     "output_type": "stream",
     "text": [
      "Digite seu nome completo: George\n",
      "Analisando  nome...\n",
      "Seu nome em maiúsculas é GEORGE\n",
      "Seu nome em minúsculas é george\n",
      "Seu nome tem 6 letras.\n"
     ]
    }
   ],
   "source": [
    "#Transforma nomes\n",
    "#Todas as letras MAIÚSCULAS\n",
    "#Todas as letras minúsculas\n",
    "#Quantidade de letras (Sem contar espaços)\n",
    "\n",
    "nome=str(input('Digite seu nome completo: ')).strip()\n",
    "print('Analisando  nome...')\n",
    "print('Seu nome em maiúsculas é {}'.format(nome.upper()))\n",
    "print('Seu nome em minúsculas é {}'.format(nome.lower()))\n",
    "print('Seu nome tem {} letras.'.format(len(nome) - nome.count(' ')))\n",
    "print('Seu primeiro nome tem {} letras'.format(nome,find(' ')))\n",
    "#Também pode ser feito substituindo a última linha"
   ]
  },
  {
   "cell_type": "code",
   "execution_count": null,
   "metadata": {},
   "outputs": [],
   "source": []
  },
  {
   "cell_type": "code",
   "execution_count": null,
   "metadata": {},
   "outputs": [],
   "source": []
  }
 ],
 "metadata": {
  "kernelspec": {
   "display_name": "Python 3.6",
   "language": "python",
   "name": "python36"
  },
  "language_info": {
   "codemirror_mode": {
    "name": "ipython",
    "version": 3
   },
   "file_extension": ".py",
   "mimetype": "text/x-python",
   "name": "python",
   "nbconvert_exporter": "python",
   "pygments_lexer": "ipython3",
   "version": "3.6.3"
  }
 },
 "nbformat": 4,
 "nbformat_minor": 2
}
