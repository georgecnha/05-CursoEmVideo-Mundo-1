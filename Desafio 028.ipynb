{
 "cells": [
  {
   "cell_type": "code",
   "execution_count": null,
   "metadata": {
    "collapsed": true
   },
   "outputs": [],
   "source": [
    "# -*- coding: utf-8 -*-\n",
    "\"\"\"\n",
    "Created on Sat Apr 21 14:23:41 2018\n",
    "\n",
    "@author: george\n",
    "\"\"\"\n",
    "\n",
    "\"\"\"Exercício Python 028: Escreva um programa que faça o computador \"pensar\" \n",
    "em um número inteiro entre 0 e 5 e peça para o usuário tentar descobrir qual \n",
    "foi o número escolhido pelo computador. O programa deverá escrever na tela \n",
    "se o usuário venceu ou perdeu.\"\"\"\n",
    "\n",
    "from random import randint #sorteio de inteiros\n",
    "from time import sleep #pausa com tempo predeterminado\n",
    "computador=randint(0,5)\n",
    "print('-=-'*20)\n",
    "jogador=int(input('Tente advinhar: '))\n",
    "print('-=-'*20)\n",
    "\n",
    "sleep(2) #Pausa de dois segundos para um suspense\n",
    "\n",
    "if jogador==computador:\n",
    "    print('CONGRATULATIONS! You Won!')\n",
    "else: \n",
    "    print('Ganhei! Pensei no {} e não no {}'.format(computador, jogador))"
   ]
  }
 ],
 "metadata": {
  "kernelspec": {
   "display_name": "Python 3.6",
   "language": "python",
   "name": "python36"
  },
  "language_info": {
   "codemirror_mode": {
    "name": "ipython",
    "version": 3
   },
   "file_extension": ".py",
   "mimetype": "text/x-python",
   "name": "python",
   "nbconvert_exporter": "python",
   "pygments_lexer": "ipython3",
   "version": "3.6.3"
  }
 },
 "nbformat": 4,
 "nbformat_minor": 2
}
