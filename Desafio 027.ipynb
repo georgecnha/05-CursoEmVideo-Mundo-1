{
 "cells": [
  {
   "cell_type": "code",
   "execution_count": null,
   "metadata": {
    "collapsed": true
   },
   "outputs": [],
   "source": [
    "# -*- coding: utf-8 -*-\n",
    "\"\"\"\n",
    "Created on Sat Apr 21 13:05:33 2018\n",
    "\n",
    "@author: george\n",
    "\"\"\"\n",
    "\"\"\"Exercício Python 027: Faça um programa que leia o nome completo de uma pessoa,\n",
    " mostrando em seguida o primeiro e o último nome separadamente.\n",
    "\"\"\"\n",
    "\n",
    "n=str(input('Digite seu nome: ')).strip()\n",
    "nome=n.split() #.split() cria uma lista a partir de cada espaço.\n",
    "print('Seu primeiro nome é: {}'.format(nome[0]))\n",
    "print('Seu último nome é: {}'.format(nome[len(nome)-1]))"
   ]
  }
 ],
 "metadata": {
  "kernelspec": {
   "display_name": "Python 3.6",
   "language": "python",
   "name": "python36"
  },
  "language_info": {
   "codemirror_mode": {
    "name": "ipython",
    "version": 3
   },
   "file_extension": ".py",
   "mimetype": "text/x-python",
   "name": "python",
   "nbconvert_exporter": "python",
   "pygments_lexer": "ipython3",
   "version": "3.6.3"
  }
 },
 "nbformat": 4,
 "nbformat_minor": 2
}
